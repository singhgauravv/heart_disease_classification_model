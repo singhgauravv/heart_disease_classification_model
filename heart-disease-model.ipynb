{
 "cells": [
  {
   "cell_type": "markdown",
   "id": "f34093ad-f071-491f-8ab7-8e8e5672ae28",
   "metadata": {},
   "source": [
    "# Predict heart disease using machine learning\n",
    "\n",
    "This notebook (QA) leverages Python-based ML libraries to build a ML-model that predicts if a person has heart diseases or not\n",
    "based on their medical attributes.\n",
    "\n",
    "Steps:\n",
    "1. Define problem statement\n",
    "2. Understand Data\n",
    "3. Model Evaluation (to choose the most appropriate one)\n",
    "4. Determine features\n",
    "5. Modelling\n",
    "6. Experimentation"
   ]
  },
  {
   "cell_type": "markdown",
   "id": "bbeabaef-f470-49f3-acf1-f859d511529d",
   "metadata": {},
   "source": [
    "### 1. Define Problem Statement\n",
    "\n",
    "> Given clinical attributes of a patient, predict whether they have heart disease or not?"
   ]
  },
  {
   "cell_type": "code",
   "execution_count": null,
   "id": "cd3cfe56-0a6c-44d7-9a00-b029fe3e8add",
   "metadata": {},
   "outputs": [],
   "source": []
  }
 ],
 "metadata": {
  "kernelspec": {
   "display_name": "Python 3 (ipykernel)",
   "language": "python",
   "name": "python3"
  },
  "language_info": {
   "codemirror_mode": {
    "name": "ipython",
    "version": 3
   },
   "file_extension": ".py",
   "mimetype": "text/x-python",
   "name": "python",
   "nbconvert_exporter": "python",
   "pygments_lexer": "ipython3",
   "version": "3.12.4"
  }
 },
 "nbformat": 4,
 "nbformat_minor": 5
}
