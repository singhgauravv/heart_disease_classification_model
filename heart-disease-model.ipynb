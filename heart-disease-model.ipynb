{
 "cells": [
  {
   "cell_type": "markdown",
   "id": "f34093ad-f071-491f-8ab7-8e8e5672ae28",
   "metadata": {},
   "source": [
    "# Predict heart disease using machine learning\n",
    "\n",
    "This notebook (QA) leverages Python-based ML libraries to build a ML-model that predicts if a person has heart diseases or not\n",
    "based on their medical attributes.\n",
    "\n",
    "Steps:\n",
    "1. Define problem statement\n",
    "2. Understand Data\n",
    "3. Model Evaluation (to choose the most appropriate one)\n",
    "4. Determine features\n",
    "5. Modelling\n",
    "6. Experimentation"
   ]
  },
  {
   "cell_type": "markdown",
   "id": "bbeabaef-f470-49f3-acf1-f859d511529d",
   "metadata": {},
   "source": [
    "### 1. Define Problem Statement\n",
    "\n",
    "> Given clinical attributes of a patient, predict whether they have heart disease or not?\n",
    "\n",
    "### 2. Understand Data : [Data](https://www.kaggle.com/datasets/redwankarimsony/heart-disease-data/data)\n",
    "\r",
    "### 3. Evaluation\n",
    "> Reach 95% accuracy at predicting during Proof-Of-Concept and then pursue the project.\n",
    "\n",
    "### 4. Features\n",
    "\n",
    "**Create data dictionary**\n",
    "- **age:** The person’s age in years\n",
    "- **sex:** The person’s sex (1 = male, 0 = female)\n",
    "- **cp:** Chest pain type\n",
    "  - Value 0: asymptomatic\n",
    "  - Value 1: atypical angina\n",
    "  - Value 2: non-anginal pain\n",
    "  - Value 3: typical angina\n",
    "- **trestbps:** The person’s resting blood pressure (mm Hg on admission to the hospital)\n",
    "- **chol:** The person’s cholesterol measurement in mg/dl\n",
    "- **fbs:** The person’s fasting blood sugar (> 120 mg/dl, 1 = true; 0 = false)\n",
    "- **restecg:** Resting electrocardiographic results\n",
    "  - Value 0: showing probable or definite left ventricular hypertrophy by Estes’ criteria\n",
    "  - Value 1: normal\n",
    "  - Value 2: having ST-T wave abnormality (T wave inversions and/or ST elevation or depression of > 0.05 mV)\n",
    "- **thalach:** The person’s maximum heart rate achieved\n",
    "- **exang:** Exercise-induced angina (1 = yes; 0 = no)\n",
    "- **oldpeak:** ST depression induced by exercise relative to rest\n",
    "- **slope:** The slope of the peak exercise ST segment\n",
    "  - Value 0: downsloping\n",
    "  - Value 1: flat\n",
    "  - Value 2: upsloping\n",
    "- **ca:** The number of major vessels (0–3)\n",
    "- **thal:** A blood disorder called thalassemia\n",
    "  - Value 0: NULL (dropped from the dataset previously)\n",
    "  - Value 1: fixed defect (no blood flow in some part of the heart)\n",
    "  - Value 2: normal blood flow\n",
    "  - Value 3: reversible defect (a blood flow is observed but it is not normal)\n",
    "- **target:** Heart disease (1 = no, 0 = yes)\n"
   ]
  },
  {
   "cell_type": "code",
   "execution_count": 9,
   "id": "8cded6b3-e0dd-4f83-87a3-a7e7be0b97ee",
   "metadata": {},
   "outputs": [],
   "source": [
    "# Import tools\n",
    "\n",
    "# EDA (exploratory data analysis) and plotting libraries\n",
    "import numpy as np\n",
    "import pandas as pd\n",
    "import matplotlib.pyplot as plt\n",
    "import seaborn as sns\n",
    "\n",
    "# Ensure plots appear inside the notebook (only needed for Jupyter Notebooks)\n",
    "%matplotlib inline\n",
    "\n",
    "# Import models from SciKit-Learn\n",
    "from sklearn.linear_model import LogisticRegression\n",
    "from sklearn.neighbors import KNeighborsClassifier\n",
    "from sklearn.ensemble import RandomForestClassifier\n",
    "\n",
    "# Model evaluation\n",
    "from sklearn.model_selection import train_test_split, cross_val_score\n",
    "from sklearn.model_selection import RandomizedSearchCV, GridSearchCV\n",
    "from sklearn.metrics import confusion_matrix, classification_report\n",
    "from sklearn.metrics import precision_score, recall_score\n",
    "from sklearn.metrics import RocCurveDisplay\n"
   ]
  },
  {
   "cell_type": "code",
   "execution_count": null,
   "id": "e3f82949-0e67-4bc3-a626-d1d14d061038",
   "metadata": {},
   "outputs": [],
   "source": []
  }
 ],
 "metadata": {
  "kernelspec": {
   "display_name": "Python 3 (ipykernel)",
   "language": "python",
   "name": "python3"
  },
  "language_info": {
   "codemirror_mode": {
    "name": "ipython",
    "version": 3
   },
   "file_extension": ".py",
   "mimetype": "text/x-python",
   "name": "python",
   "nbconvert_exporter": "python",
   "pygments_lexer": "ipython3",
   "version": "3.12.4"
  }
 },
 "nbformat": 4,
 "nbformat_minor": 5
}
